{
 "cells": [
  {
   "cell_type": "code",
   "execution_count": 1,
   "metadata": {},
   "outputs": [],
   "source": [
    "import cv2\n",
    "import numpy as np\n",
    "import matplotlib.pyplot as plt\n",
    "%matplotlib inline\n",
    "import warnings\n",
    "warnings.filterwarnings('ignore')\n"
   ]
  },
  {
   "cell_type": "code",
   "execution_count": 2,
   "metadata": {},
   "outputs": [
    {
     "name": "stderr",
     "output_type": "stream",
     "text": [
      "Using TensorFlow backend.\n"
     ]
    },
    {
     "name": "stdout",
     "output_type": "stream",
     "text": [
      "Found 1314 images belonging to 2 classes.\n",
      "Found 194 images belonging to 2 classes.\n"
     ]
    }
   ],
   "source": [
    "#Preprocessing the dataset images\n",
    "from keras.preprocessing.image import ImageDataGenerator\n",
    "\n",
    "Imagegen = ImageDataGenerator(rotation_range = 30,\n",
    "                              width_shift_range = 0.2, \n",
    "                              height_shift_range = 0.2,\n",
    "                              rescale = 1/255,\n",
    "                              shear_range = 0.2,\n",
    "                              zoom_range = 0.2,\n",
    "                              horizontal_flip = True,\n",
    "                              fill_mode = 'nearest')\n",
    "\n",
    "train = Imagegen.flow_from_directory('face-mask-dataset/train', target_size = (150,150), batch_size = 20, class_mode = 'binary')\n",
    "test = Imagegen.flow_from_directory('face-mask-dataset/test', target_size = (150,150), batch_size = 20, class_mode = 'binary')"
   ]
  },
  {
   "cell_type": "code",
   "execution_count": 3,
   "metadata": {},
   "outputs": [
    {
     "data": {
      "text/plain": [
       "{'with_mask': 0, 'without_mask': 1}"
      ]
     },
     "execution_count": 3,
     "metadata": {},
     "output_type": "execute_result"
    }
   ],
   "source": [
    "train.class_indices"
   ]
  },
  {
   "cell_type": "code",
   "execution_count": 4,
   "metadata": {},
   "outputs": [],
   "source": [
    "#Building the model\n",
    "from keras.models import Sequential\n",
    "from keras.layers import Conv2D, Dense, MaxPooling2D, Flatten, Dropout\n",
    "\n",
    "model = Sequential([Conv2D(filters = 32, kernel_size = (3,3), input_shape = (150,150,3), activation = 'relu'),\n",
    "                   MaxPooling2D((2,2)),\n",
    "                   Conv2D(filters = 32, kernel_size = (3,3), activation = 'relu'),\n",
    "                   MaxPooling2D((2,2)),\n",
    "                   Conv2D(filters = 32, kernel_size = (3,3), activation = 'relu'),\n",
    "                   MaxPooling2D((2,2)),\n",
    "                   Flatten(),\n",
    "                   Dense(128, activation = 'relu'),\n",
    "                   Dense(1, activation = 'sigmoid')])"
   ]
  },
  {
   "cell_type": "code",
   "execution_count": 5,
   "metadata": {},
   "outputs": [],
   "source": [
    "#Compiling the model\n",
    "model.compile(optimizer = 'adam', loss = 'binary_crossentropy', metrics = ['accuracy'])"
   ]
  },
  {
   "cell_type": "code",
   "execution_count": 6,
   "metadata": {},
   "outputs": [
    {
     "name": "stdout",
     "output_type": "stream",
     "text": [
      "Epoch 1/10\n",
      "66/66 [==============================] - 24s 359ms/step - loss: 0.5145 - acc: 0.7240 - val_loss: 0.2634 - val_acc: 0.8711\n",
      "Epoch 2/10\n",
      "66/66 [==============================] - 27s 409ms/step - loss: 0.3035 - acc: 0.8812 - val_loss: 0.1896 - val_acc: 0.9330\n",
      "Epoch 3/10\n",
      "66/66 [==============================] - 28s 422ms/step - loss: 0.2454 - acc: 0.9047 - val_loss: 0.2089 - val_acc: 0.9278\n",
      "Epoch 4/10\n",
      "66/66 [==============================] - 27s 406ms/step - loss: 0.2264 - acc: 0.9091 - val_loss: 0.1141 - val_acc: 0.9691\n",
      "Epoch 5/10\n",
      "66/66 [==============================] - 27s 409ms/step - loss: 0.1660 - acc: 0.9444 - val_loss: 0.1125 - val_acc: 0.9588\n",
      "Epoch 6/10\n",
      "66/66 [==============================] - 27s 404ms/step - loss: 0.1846 - acc: 0.9342 - val_loss: 0.1663 - val_acc: 0.9433\n",
      "Epoch 7/10\n",
      "66/66 [==============================] - 27s 409ms/step - loss: 0.1456 - acc: 0.9436 - val_loss: 0.0985 - val_acc: 0.9691\n",
      "Epoch 8/10\n",
      "66/66 [==============================] - 27s 411ms/step - loss: 0.1176 - acc: 0.9545 - val_loss: 0.0771 - val_acc: 0.9639\n",
      "Epoch 9/10\n",
      "66/66 [==============================] - 27s 416ms/step - loss: 0.1131 - acc: 0.9553 - val_loss: 0.0569 - val_acc: 0.9845\n",
      "Epoch 10/10\n",
      "66/66 [==============================] - 28s 421ms/step - loss: 0.1017 - acc: 0.9651 - val_loss: 0.1006 - val_acc: 0.9691\n"
     ]
    },
    {
     "data": {
      "text/plain": [
       "<keras.callbacks.History at 0x1412f12c240>"
      ]
     },
     "execution_count": 6,
     "metadata": {},
     "output_type": "execute_result"
    }
   ],
   "source": [
    "#Training the model\n",
    "model.fit_generator(train, epochs = 10, validation_data = test)"
   ]
  },
  {
   "cell_type": "code",
   "execution_count": 7,
   "metadata": {},
   "outputs": [],
   "source": [
    "model.save('Face_mask_detection.h5')"
   ]
  },
  {
   "cell_type": "code",
   "execution_count": 2,
   "metadata": {},
   "outputs": [
    {
     "name": "stderr",
     "output_type": "stream",
     "text": [
      "Using TensorFlow backend.\n"
     ]
    }
   ],
   "source": [
    "#Loading the model\n",
    "\n",
    "from keras.models import load_model\n",
    "model = load_model('Face_mask_detection.h5')"
   ]
  },
  {
   "cell_type": "code",
   "execution_count": 5,
   "metadata": {},
   "outputs": [
    {
     "data": {
      "text/plain": [
       "<function destroyAllWindows>"
      ]
     },
     "execution_count": 5,
     "metadata": {},
     "output_type": "execute_result"
    }
   ],
   "source": [
    "#Real time face mask detection\n",
    "\n",
    "cap = cv2.VideoCapture(0)\n",
    "\n",
    "while True:\n",
    "    _, frame = cap.read()\n",
    "    cv2.imwrite('test.jpg', frame)\n",
    "    \n",
    "    #face detection\n",
    "    detector = cv2.CascadeClassifier('../DATA/haarcascades/haarcascade_frontalface_default.xml')\n",
    "    face = detector.detectMultiScale(frame)\n",
    "    \n",
    "    from keras.preprocessing import image\n",
    "    \n",
    "    test_img = image.load_img('test.jpg', target_size = (150,150))\n",
    "    test_img = image.img_to_array(test_img)\n",
    "    test_img = np.expand_dims(test_img, axis = 0)\n",
    "    test_img = test_img/255\n",
    "    \n",
    "    if model.predict_classes(test_img)[0][0] == 1:\n",
    "        for x, y, w, h in face:\n",
    "            cv2.rectangle(frame, (x, y), (x+w, y+h), (0,0,255), 3)\n",
    "            cv2.putText(frame, 'Please put on a mask', (10,20), cv2.FONT_HERSHEY_COMPLEX, 1, (0,0,255), 2)\n",
    "    else:\n",
    "        for x, y, w, h in face:\n",
    "            cv2.rectangle(frame, (x, y), (x+w, y+h), (255,0,0,), 3)\n",
    "            cv2.putText(frame, 'You are safe', (10,20), cv2.FONT_HERSHEY_COMPLEX, 1, (255,0,0), 2)\n",
    "    cv2.imshow('Face_mask_detector', frame)\n",
    "    \n",
    "    k = cv2.waitKey(10)\n",
    "    if k == 27:\n",
    "        break\n",
    "        \n",
    "cap.release()\n",
    "cv2.destroyAllWindows"
   ]
  }
 ],
 "metadata": {
  "kernelspec": {
   "display_name": "Python 3",
   "language": "python",
   "name": "python3"
  },
  "language_info": {
   "codemirror_mode": {
    "name": "ipython",
    "version": 3
   },
   "file_extension": ".py",
   "mimetype": "text/x-python",
   "name": "python",
   "nbconvert_exporter": "python",
   "pygments_lexer": "ipython3",
   "version": "3.6.6"
  }
 },
 "nbformat": 4,
 "nbformat_minor": 2
}
